{
 "cells": [
  {
   "cell_type": "code",
   "execution_count": 45,
   "id": "prostate-forge",
   "metadata": {},
   "outputs": [],
   "source": [
    "from platform import python_version\n",
    "import pandas as pd\n",
    "import numpy as np\n",
    "import matplotlib.pyplot as plt\n",
    "import seaborn as sns\n",
    "from tqdm import tqdm\n",
    "from sklearn import metrics\n",
    "from sklearn.manifold import TSNE\n",
    "from sklearn.datasets import fetch_openml\n",
    "from sklearn.cluster import KMeans"
   ]
  },
  {
   "cell_type": "code",
   "execution_count": 2,
   "id": "invalid-grass",
   "metadata": {},
   "outputs": [
    {
     "name": "stdout",
     "output_type": "stream",
     "text": [
      "3.7.3\n"
     ]
    }
   ],
   "source": [
    "print(python_version())"
   ]
  },
  {
   "cell_type": "code",
   "execution_count": 3,
   "id": "sitting-trustee",
   "metadata": {},
   "outputs": [
    {
     "name": "stderr",
     "output_type": "stream",
     "text": [
      "100%|████████████████████████████████████████████| 2/2 [00:00<00:00, 17.24it/s]\n"
     ]
    }
   ],
   "source": [
    "pixels,target = tqdm(fetch_openml(\n",
    "                            name= 'mnist_784',\n",
    "                            return_X_y= True,\n",
    "                            version = 'active'\n",
    "))"
   ]
  },
  {
   "cell_type": "code",
   "execution_count": 5,
   "id": "governing-conjunction",
   "metadata": {},
   "outputs": [
    {
     "name": "stdout",
     "output_type": "stream",
     "text": [
      "pixels [[0. 0. 0. ... 0. 0. 0.]\n",
      " [0. 0. 0. ... 0. 0. 0.]\n",
      " [0. 0. 0. ... 0. 0. 0.]\n",
      " ...\n",
      " [0. 0. 0. ... 0. 0. 0.]\n",
      " [0. 0. 0. ... 0. 0. 0.]\n",
      " [0. 0. 0. ... 0. 0. 0.]]\n",
      "target ['5' '0' '4' ... '4' '5' '6']\n"
     ]
    }
   ],
   "source": [
    "print('pixels',pixels)\n",
    "print('target',target)"
   ]
  },
  {
   "cell_type": "code",
   "execution_count": 9,
   "id": "forbidden-currency",
   "metadata": {},
   "outputs": [],
   "source": [
    "tsne = TSNE(n_components=2, random_state= 42)\n",
    "transformed_data = tsne.fit_transform(pixels[:3000])"
   ]
  },
  {
   "cell_type": "code",
   "execution_count": 12,
   "id": "asian-migration",
   "metadata": {},
   "outputs": [
    {
     "data": {
      "text/html": [
       "<div>\n",
       "<style scoped>\n",
       "    .dataframe tbody tr th:only-of-type {\n",
       "        vertical-align: middle;\n",
       "    }\n",
       "\n",
       "    .dataframe tbody tr th {\n",
       "        vertical-align: top;\n",
       "    }\n",
       "\n",
       "    .dataframe thead th {\n",
       "        text-align: right;\n",
       "    }\n",
       "</style>\n",
       "<table border=\"1\" class=\"dataframe\">\n",
       "  <thead>\n",
       "    <tr style=\"text-align: right;\">\n",
       "      <th></th>\n",
       "      <th>x</th>\n",
       "      <th>y</th>\n",
       "      <th>target</th>\n",
       "    </tr>\n",
       "  </thead>\n",
       "  <tbody>\n",
       "    <tr>\n",
       "      <th>0</th>\n",
       "      <td>-5.28155</td>\n",
       "      <td>-28.9528</td>\n",
       "      <td>5</td>\n",
       "    </tr>\n",
       "    <tr>\n",
       "      <th>1</th>\n",
       "      <td>-26.1059</td>\n",
       "      <td>-68.0693</td>\n",
       "      <td>0</td>\n",
       "    </tr>\n",
       "    <tr>\n",
       "      <th>2</th>\n",
       "      <td>-42.5036</td>\n",
       "      <td>35.5804</td>\n",
       "      <td>4</td>\n",
       "    </tr>\n",
       "    <tr>\n",
       "      <th>3</th>\n",
       "      <td>38.894</td>\n",
       "      <td>26.6634</td>\n",
       "      <td>1</td>\n",
       "    </tr>\n",
       "    <tr>\n",
       "      <th>4</th>\n",
       "      <td>-14.7706</td>\n",
       "      <td>35.4332</td>\n",
       "      <td>9</td>\n",
       "    </tr>\n",
       "  </tbody>\n",
       "</table>\n",
       "</div>"
      ],
      "text/plain": [
       "         x        y target\n",
       "0 -5.28155 -28.9528      5\n",
       "1 -26.1059 -68.0693      0\n",
       "2 -42.5036  35.5804      4\n",
       "3   38.894  26.6634      1\n",
       "4 -14.7706  35.4332      9"
      ]
     },
     "execution_count": 12,
     "metadata": {},
     "output_type": "execute_result"
    }
   ],
   "source": [
    "tsne_df = pd.DataFrame(\n",
    "                    np.column_stack((transformed_data,target[:3000])),\n",
    "                    columns = ['x','y','target'],\n",
    ")\n",
    "tsne_df.target.astype('int')\n",
    "tsne_df.head()"
   ]
  },
  {
   "cell_type": "code",
   "execution_count": 40,
   "id": "eastern-recipe",
   "metadata": {},
   "outputs": [
    {
     "data": {
      "text/plain": [
       "(3000, 2)"
      ]
     },
     "execution_count": 40,
     "metadata": {},
     "output_type": "execute_result"
    }
   ],
   "source": [
    "X = tsne_df.drop('target', axis =1)\n",
    "X.shape"
   ]
  },
  {
   "cell_type": "markdown",
   "id": "roman-increase",
   "metadata": {},
   "source": [
    "## K-means clustering\n",
    "\n",
    "Assumptions : \n",
    "1) k-means which assumes isotropic blob shapes with results of spectral clustering algorithms which can find cluster with “folded” shapes."
   ]
  },
  {
   "cell_type": "code",
   "execution_count": 41,
   "id": "apart-sydney",
   "metadata": {},
   "outputs": [
    {
     "name": "stdout",
     "output_type": "stream",
     "text": [
      "[7422172.076524456, 4016245.393333043, 2414868.029032476, 1767973.2524864473, 1424838.5412511106, 1084107.9589609704, 833097.4917532469, 676645.5558320454, 578549.0077589081, 513197.26171689236, 450365.7498922846, 401562.09011701227, 372027.969207688, 351991.0969365345, 330298.97657532897]\n"
     ]
    }
   ],
   "source": [
    "wcss = []\n",
    "k = range(1,16)\n",
    "for i in k:\n",
    "    km = KMeans(n_clusters = i, init = 'k-means++', random_state = 42)\n",
    "    km.fit(X)\n",
    "    wcss.append(km.inertia_)\n",
    "print(wcss)"
   ]
  },
  {
   "cell_type": "code",
   "execution_count": 43,
   "id": "increased-activation",
   "metadata": {},
   "outputs": [
    {
     "data": {
      "text/plain": [
       "[<matplotlib.lines.Line2D at 0x16a2ecc0>]"
      ]
     },
     "execution_count": 43,
     "metadata": {},
     "output_type": "execute_result"
    },
    {
     "data": {
      "image/png": "[encoded data removed]",
      "text/plain": [
       "<Figure size 720x432 with 1 Axes>"
      ]
     },
     "metadata": {
      "needs_background": "light"
     },
     "output_type": "display_data"
    }
   ],
   "source": [
    "plt.figure(figsize = (10,6))\n",
    "plt.plot(k, wcss)"
   ]
  },
  {
   "cell_type": "markdown",
   "id": "arranged-hampshire",
   "metadata": {},
   "source": [
    "Let us select k value to be 8 as if we don't know how many labels are there"
   ]
  },
  {
   "cell_type": "markdown",
   "id": "suitable-auction",
   "metadata": {},
   "source": [
    "## Validating clusters"
   ]
  },
  {
   "cell_type": "markdown",
   "id": "supported-tongue",
   "metadata": {},
   "source": [
    "**Relative clustering validation**, which evaluates the clustering structure by varying different parameter values for the same algorithm (e.g.,: varying the number of clusters k). It’s generally used for determining the optimal number of clusters.\n",
    "\n",
    "**External clustering validation**, which consists in comparing the results of a cluster analysis to an externally known result, such as externally provided class labels. Since we know the “true” cluster number in advance, this approach is mainly used for selecting the right clustering algorithm for a specific dataset.\n",
    "\n",
    "**Internal clustering validation**, which use the internal information of the clustering process to evaluate the goodness of a clustering structure without reference to external information. It can be also used for estimating the number of clusters and the appropriate clustering algorithm without any external data.\n",
    "\n",
    "**Clustering stability validation**, which is a special version of internal validation. It evaluates the consistency of a clustering result by comparing it with the clusters obtained after each column is removed, one at a time.\n",
    "\n",
    "References:\n",
    "\n",
    "[towardsdatascience](https://towardsdatascience.com/clustering-evaluation-strategies-98a4006fcfc)\n",
    "\n",
    "[sklearn](https://scikit-learn.org/stable/modules/clustering.html#clustering-performance-evaluation)"
   ]
  },
  {
   "cell_type": "markdown",
   "id": "basic-professor",
   "metadata": {},
   "source": [
    "#### Sklearn implementation - External clustering validation (i.e. ground truths are known)"
   ]
  },
  {
   "cell_type": "markdown",
   "id": "legitimate-oregon",
   "metadata": {},
   "source": [
    "#### 1. Rand index\n",
    "\n",
    "To apply this metric we should have knowledge about the ground truth i.e. we should have already labelled data and then compare the predictions with the ground truth more like a supervised classification algorithm. A perfect adjusted_rand_score indicate a perfect clustering, and -1 gives random clustering, so the more the better\n",
    "\n",
    "adjusted_rand_score range [-1,1]\n",
    "\n",
    "For smaller sample sizes(<=1000) or larger number of clusters(>=10) it is safer to use an adjusted index such as the Adjusted Rand Index (ARI)."
   ]
  },
  {
   "cell_type": "code",
   "execution_count": 47,
   "id": "excited-adjustment",
   "metadata": {},
   "outputs": [],
   "source": [
    "kmeans = KMeans(n_clusters = 10, init = 'k-means++', random_state = 42)"
   ]
  },
  {
   "cell_type": "code",
   "execution_count": 53,
   "id": "framed-intelligence",
   "metadata": {},
   "outputs": [
    {
     "name": "stdout",
     "output_type": "stream",
     "text": [
      "0.5476257833048203\n"
     ]
    }
   ],
   "source": [
    "predicted_labels = kmeans.fit_predict(X)\n",
    "true_labels = tsne_df.target\n",
    "print(metrics.adjusted_rand_score(true_labels,predicted_labels))"
   ]
  },
  {
   "cell_type": "code",
   "execution_count": 56,
   "id": "subject-recipe",
   "metadata": {},
   "outputs": [
    {
     "data": {
      "text/html": [
       "<div>\n",
       "<style scoped>\n",
       "    .dataframe tbody tr th:only-of-type {\n",
       "        vertical-align: middle;\n",
       "    }\n",
       "\n",
       "    .dataframe tbody tr th {\n",
       "        vertical-align: top;\n",
       "    }\n",
       "\n",
       "    .dataframe thead th {\n",
       "        text-align: right;\n",
       "    }\n",
       "</style>\n",
       "<table border=\"1\" class=\"dataframe\">\n",
       "  <thead>\n",
       "    <tr style=\"text-align: right;\">\n",
       "      <th></th>\n",
       "      <th>x</th>\n",
       "      <th>y</th>\n",
       "      <th>predicted targets</th>\n",
       "    </tr>\n",
       "  </thead>\n",
       "  <tbody>\n",
       "    <tr>\n",
       "      <th>0</th>\n",
       "      <td>-5.28155</td>\n",
       "      <td>-28.9528</td>\n",
       "      <td>1</td>\n",
       "    </tr>\n",
       "    <tr>\n",
       "      <th>1</th>\n",
       "      <td>-26.1059</td>\n",
       "      <td>-68.0693</td>\n",
       "      <td>4</td>\n",
       "    </tr>\n",
       "    <tr>\n",
       "      <th>2</th>\n",
       "      <td>-42.5036</td>\n",
       "      <td>35.5804</td>\n",
       "      <td>2</td>\n",
       "    </tr>\n",
       "    <tr>\n",
       "      <th>3</th>\n",
       "      <td>38.894</td>\n",
       "      <td>26.6634</td>\n",
       "      <td>3</td>\n",
       "    </tr>\n",
       "    <tr>\n",
       "      <th>4</th>\n",
       "      <td>-14.7706</td>\n",
       "      <td>35.4332</td>\n",
       "      <td>5</td>\n",
       "    </tr>\n",
       "  </tbody>\n",
       "</table>\n",
       "</div>"
      ],
      "text/plain": [
       "         x        y predicted targets\n",
       "0 -5.28155 -28.9528                 1\n",
       "1 -26.1059 -68.0693                 4\n",
       "2 -42.5036  35.5804                 2\n",
       "3   38.894  26.6634                 3\n",
       "4 -14.7706  35.4332                 5"
      ]
     },
     "execution_count": 56,
     "metadata": {},
     "output_type": "execute_result"
    }
   ],
   "source": [
    "cluster_df = pd.DataFrame(\n",
    "                        np.column_stack((X,predicted_labels)),\n",
    "                        columns = ['x','y','predicted targets']\n",
    ")\n",
    "cluster_df.head()"
   ]
  },
  {
   "cell_type": "code",
   "execution_count": 68,
   "id": "cheap-denmark",
   "metadata": {},
   "outputs": [
    {
     "name": "stderr",
     "output_type": "stream",
     "text": [
      "C:\\Users\\USER\\.conda\\envs\\py_373\\lib\\site-packages\\seaborn\\axisgrid.py:230: UserWarning: The `size` paramter has been renamed to `height`; please update your code.\n",
      "  warnings.warn(msg, UserWarning)\n"
     ]
    },
    {
     "data": {
      "text/plain": [
       "<seaborn.axisgrid.FacetGrid at 0x19757e48>"
      ]
     },
     "execution_count": 68,
     "metadata": {},
     "output_type": "execute_result"
    },
    {
     "data": {
      "image/png": "[encoded data removed]",
      "text/plain": [
       "<Figure size 526.5x432 with 1 Axes>"
      ]
     },
     "metadata": {
      "needs_background": "light"
     },
     "output_type": "display_data"
    }
   ],
   "source": [
    "sns.FacetGrid(data = cluster_df, hue = 'predicted targets', size = 6).map(plt.scatter, 'x','y') \\\n",
    ".set(title = \"Predicted Clusters\").add_legend()"
   ]
  },
  {
   "cell_type": "markdown",
   "id": "selective-interview",
   "metadata": {},
   "source": [
    "#### 2. Mutual Information based scores\n",
    "\n",
    "Given the knowledge of the ground truth class assignments labels_true and our clustering algorithm assignments of the same samples labels_pred, the Mutual Information is a function that measures the agreement of the two assignments, ignoring permutations\n",
    "\n",
    "Two different normalized versions of this measure are available, **Normalized Mutual Information (NMI)** and **Adjusted Mutual Information (AMI)**. NMI is often used in the literature, while AMI was proposed more recently and is normalized against chance\n",
    "\n",
    "All, mutual_info_score, adjusted_mutual_info_score and normalized_mutual_info_score are symmetric: swapping the argument does not change the score. Thus they can be used as a consensus measure\n",
    "\n",
    "adjusted_mustual_info_score range [0,1], the more the better"
   ]
  },
  {
   "cell_type": "code",
   "execution_count": 71,
   "id": "utility-industry",
   "metadata": {},
   "outputs": [
    {
     "data": {
      "text/plain": [
       "0.6510257073141468"
      ]
     },
     "execution_count": 71,
     "metadata": {},
     "output_type": "execute_result"
    }
   ],
   "source": [
    "metrics.adjusted_mutual_info_score(true_labels,predicted_labels)"
   ]
  },
  {
   "cell_type": "markdown",
   "id": "posted-indication",
   "metadata": {},
   "source": [
    "#### 3. Homogeneity, completeness and V-measure (qualitative)\n",
    "\n",
    "Desired objectives for cluster assignments:\n",
    "\n",
    "**homogeneity:** each cluster contains only members of a single class.\n",
    "\n",
    "**completeness:** all members of a given class are assigned to the same cluster.\n",
    "\n",
    "**Advantages** : clustering with bad V-measure can be qualitatively analyzed in terms of homogeneity and completeness to better feel what ‘kind’ of mistakes is done by the assignment. No assumption is made on the cluster structure\n",
    "\n",
    "**Disadvantages** : Random labeling won’t yield zero scores especially when the number of clusters is large.This problem can safely be ignored when the number of samples is more than a thousand and the number of clusters is less than 10.\n",
    "\n",
    "range [0,1] the more the better"
   ]
  },
  {
   "cell_type": "code",
   "execution_count": 76,
   "id": "involved-mediterranean",
   "metadata": {},
   "outputs": [
    {
     "name": "stdout",
     "output_type": "stream",
     "text": [
      "homogeity score :  0.6513616389919845\n",
      "Completeness Score : 0.6548371608502331\n"
     ]
    }
   ],
   "source": [
    "print(\"homogeity score : \",metrics.homogeneity_score(true_labels,predicted_labels))\n",
    "print(\"Completeness Score :\",metrics.completeness_score(true_labels,predicted_labels))"
   ]
  },
  {
   "attachments": {
    "image.png": {
     "image/png": "[encoded data removed]"
    }
   },
   "cell_type": "markdown",
   "id": "hairy-valve",
   "metadata": {},
   "source": [
    "Their harmonic mean called V-measure is computed by v_measure_score. The V-measure is actually equivalent to the mutual information (NMI), with the aggregation function being the arithmetic mean\n",
    "\n",
    ">default beta : 1\n",
    "\n",
    ">beta < 1 : more wwights given to homegeneity\n",
    "\n",
    ">beta > 1 : more weights given to compleness\n",
    "\n",
    "![image.png](attachment:image.png)"
   ]
  },
  {
   "cell_type": "code",
   "execution_count": 78,
   "id": "changing-factory",
   "metadata": {},
   "outputs": [
    {
     "name": "stdout",
     "output_type": "stream",
     "text": [
      "0.6530947761026715\n",
      "(0.6513616389919845, 0.6548371608502331, 0.6530947761026715)\n"
     ]
    }
   ],
   "source": [
    "print(metrics.v_measure_score(true_labels,predicted_labels,beta = 1))\n",
    "print(metrics.homogeneity_completeness_v_measure(true_labels,predicted_labels,beta = 1))"
   ]
  },
  {
   "attachments": {
    "image.png": {
     "image/png": "[encoded data removed]"
    }
   },
   "cell_type": "markdown",
   "id": "simplified-soundtrack",
   "metadata": {},
   "source": [
    "#### Fowlkes-Mallows scores\n",
    "\n",
    "The Fowlkes-Mallows score FMI is defined as the geometric mean of the pairwise precision and recall (more like classification metrics)\n",
    "\n",
    "![image.png](attachment:image.png)\n",
    "\n",
    "Advantages : \n",
    "            1. Random (uniform) label assignments have a FMI score close to 0.0 \n",
    "            2. No assumption is made on the cluster structure\n",
    "            \n",
    "Range [0,1], the more the better"
   ]
  },
  {
   "cell_type": "code",
   "execution_count": 79,
   "id": "extra-broadway",
   "metadata": {},
   "outputs": [
    {
     "data": {
      "text/plain": [
       "0.5935974712952429"
      ]
     },
     "execution_count": 79,
     "metadata": {},
     "output_type": "execute_result"
    }
   ],
   "source": [
    "metrics.fowlkes_mallows_score(true_labels,predicted_labels)"
   ]
  },
  {
   "cell_type": "markdown",
   "id": "reported-selling",
   "metadata": {},
   "source": [
    "#### Sklearn implementation - External clustering validation (i.e. ground truths are not known)"
   ]
  },
  {
   "attachments": {
    "image.png": {
     "image/png": "[encoded data removed]"
    }
   },
   "cell_type": "markdown",
   "id": "whole-fraction",
   "metadata": {},
   "source": [
    "#### Silhouette Coefficient\n",
    "\n",
    "A higher Silhouette Coefficient score relates to a model with better defined clusters. The Silhouette Coefficient is defined for each sample and is composed of two scores:\n",
    "                       \n",
    "               a: The mean distance between a sample and all other points in the same class. (intra-cluster mean)\n",
    "\n",
    "               b: The mean distance between a sample and all other points in the next nearest cluster. (inter-cluster mean)\n",
    "               \n",
    "![image.png](attachment:image.png)\n",
    "\n",
    "**Adavantages** : The score is higher when clusters are dense and well separated, which relates to a standard concept of a cluster.\n",
    "\n",
    "**Disadvantages** : The Silhouette Coefficient is generally higher for convex clusters than other concepts of clusters, such as density based clusters like those obtained through DBSCAN"
   ]
  },
  {
   "cell_type": "code",
   "execution_count": 80,
   "id": "brazilian-amino",
   "metadata": {},
   "outputs": [
    {
     "data": {
      "text/plain": [
       "0.45930531182677925"
      ]
     },
     "execution_count": 80,
     "metadata": {},
     "output_type": "execute_result"
    }
   ],
   "source": [
    "metrics.silhouette_score(X,kmeans.labels_, metric = 'euclidean')"
   ]
  },
  {
   "cell_type": "markdown",
   "id": "second-spain",
   "metadata": {},
   "source": [
    "Here we can see that since the clusters are mostly non-convex, so the Silhouette score is very low"
   ]
  },
  {
   "cell_type": "code",
   "execution_count": null,
   "id": "ordered-kuwait",
   "metadata": {},
   "outputs": [],
   "source": []
  }
 ],
 "metadata": {
  "kernelspec": {
   "display_name": "Python [conda env:.conda-py_373]",
   "language": "python",
   "name": "conda-env-.conda-py_373-py"
  },
  "language_info": {
   "codemirror_mode": {
    "name": "ipython",
    "version": 3
   },
   "file_extension": ".py",
   "mimetype": "text/x-python",
   "name": "python",
   "nbconvert_exporter": "python",
   "pygments_lexer": "ipython3",
   "version": "3.7.3"
  }
 },
 "nbformat": 4,
 "nbformat_minor": 5
}
