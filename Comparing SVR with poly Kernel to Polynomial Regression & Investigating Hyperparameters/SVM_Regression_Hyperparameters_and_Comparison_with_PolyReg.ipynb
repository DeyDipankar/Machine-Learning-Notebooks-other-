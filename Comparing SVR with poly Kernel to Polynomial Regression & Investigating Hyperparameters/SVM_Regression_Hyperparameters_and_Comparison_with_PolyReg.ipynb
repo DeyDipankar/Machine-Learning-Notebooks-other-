{
  "nbformat": 4,
  "nbformat_minor": 0,
  "metadata": {
    "colab": {
      "name": "SVM Regression Hyperparameters and Comparison with PolyReg.ipynb",
      "provenance": [],
      "collapsed_sections": []
    },
    "kernelspec": {
      "name": "python3",
      "display_name": "Python 3"
    },
    "language_info": {
      "name": "python"
    },
    "accelerator": "TPU"
  },
  "cells": [
    {
      "cell_type": "code",
      "metadata": {
        "id": "HXnsb6tYgZ7e"
      },
      "source": [
        "!pip install feature-engine"
      ],
      "execution_count": null,
      "outputs": []
    },
    {
      "cell_type": "code",
      "metadata": {
        "id": "xvkaRs7Q9tRz"
      },
      "source": [
        "!pip install memory_profiler"
      ],
      "execution_count": null,
      "outputs": []
    },
    {
      "cell_type": "code",
      "metadata": {
        "id": "7UEYaqyHd_YT"
      },
      "source": [
        "import pandas as pd\n",
        "import numpy as np\n",
        "import seaborn as sns\n",
        "from math import sqrt\n",
        "import matplotlib.pyplot as plt\n",
        "from sklearn.pipeline import Pipeline\n",
        "from sklearn.model_selection import train_test_split,GridSearchCV,cross_val_score\n",
        "from sklearn.metrics import mean_squared_error\n",
        "from sklearn.preprocessing import StandardScaler,PolynomialFeatures\n",
        "from feature_engine.selection import SmartCorrelatedSelection\n",
        "from sklearn.svm import LinearSVR,SVR\n",
        "from sklearn.linear_model import LinearRegression\n",
        "import time"
      ],
      "execution_count": 82,
      "outputs": []
    },
    {
      "cell_type": "code",
      "metadata": {
        "colab": {
          "base_uri": "https://localhost:8080/",
          "height": 204
        },
        "id": "omVZ2qrufdgc",
        "outputId": "a635b617-161e-4dda-8d18-64df67cc4d21"
      },
      "source": [
        "df = pd.read_csv(\"./Concrete_Data_Yeh.csv\")\n",
        "df.head()"
      ],
      "execution_count": 2,
      "outputs": [
        {
          "output_type": "execute_result",
          "data": {
            "text/html": [
              "<div>\n",
              "<style scoped>\n",
              "    .dataframe tbody tr th:only-of-type {\n",
              "        vertical-align: middle;\n",
              "    }\n",
              "\n",
              "    .dataframe tbody tr th {\n",
              "        vertical-align: top;\n",
              "    }\n",
              "\n",
              "    .dataframe thead th {\n",
              "        text-align: right;\n",
              "    }\n",
              "</style>\n",
              "<table border=\"1\" class=\"dataframe\">\n",
              "  <thead>\n",
              "    <tr style=\"text-align: right;\">\n",
              "      <th></th>\n",
              "      <th>cement</th>\n",
              "      <th>slag</th>\n",
              "      <th>flyash</th>\n",
              "      <th>water</th>\n",
              "      <th>superplasticizer</th>\n",
              "      <th>coarseaggregate</th>\n",
              "      <th>fineaggregate</th>\n",
              "      <th>age</th>\n",
              "      <th>csMPa</th>\n",
              "    </tr>\n",
              "  </thead>\n",
              "  <tbody>\n",
              "    <tr>\n",
              "      <th>0</th>\n",
              "      <td>540.0</td>\n",
              "      <td>0.0</td>\n",
              "      <td>0.0</td>\n",
              "      <td>162.0</td>\n",
              "      <td>2.5</td>\n",
              "      <td>1040.0</td>\n",
              "      <td>676.0</td>\n",
              "      <td>28</td>\n",
              "      <td>79.99</td>\n",
              "    </tr>\n",
              "    <tr>\n",
              "      <th>1</th>\n",
              "      <td>540.0</td>\n",
              "      <td>0.0</td>\n",
              "      <td>0.0</td>\n",
              "      <td>162.0</td>\n",
              "      <td>2.5</td>\n",
              "      <td>1055.0</td>\n",
              "      <td>676.0</td>\n",
              "      <td>28</td>\n",
              "      <td>61.89</td>\n",
              "    </tr>\n",
              "    <tr>\n",
              "      <th>2</th>\n",
              "      <td>332.5</td>\n",
              "      <td>142.5</td>\n",
              "      <td>0.0</td>\n",
              "      <td>228.0</td>\n",
              "      <td>0.0</td>\n",
              "      <td>932.0</td>\n",
              "      <td>594.0</td>\n",
              "      <td>270</td>\n",
              "      <td>40.27</td>\n",
              "    </tr>\n",
              "    <tr>\n",
              "      <th>3</th>\n",
              "      <td>332.5</td>\n",
              "      <td>142.5</td>\n",
              "      <td>0.0</td>\n",
              "      <td>228.0</td>\n",
              "      <td>0.0</td>\n",
              "      <td>932.0</td>\n",
              "      <td>594.0</td>\n",
              "      <td>365</td>\n",
              "      <td>41.05</td>\n",
              "    </tr>\n",
              "    <tr>\n",
              "      <th>4</th>\n",
              "      <td>198.6</td>\n",
              "      <td>132.4</td>\n",
              "      <td>0.0</td>\n",
              "      <td>192.0</td>\n",
              "      <td>0.0</td>\n",
              "      <td>978.4</td>\n",
              "      <td>825.5</td>\n",
              "      <td>360</td>\n",
              "      <td>44.30</td>\n",
              "    </tr>\n",
              "  </tbody>\n",
              "</table>\n",
              "</div>"
            ],
            "text/plain": [
              "   cement   slag  flyash  water  ...  coarseaggregate  fineaggregate  age  csMPa\n",
              "0   540.0    0.0     0.0  162.0  ...           1040.0          676.0   28  79.99\n",
              "1   540.0    0.0     0.0  162.0  ...           1055.0          676.0   28  61.89\n",
              "2   332.5  142.5     0.0  228.0  ...            932.0          594.0  270  40.27\n",
              "3   332.5  142.5     0.0  228.0  ...            932.0          594.0  365  41.05\n",
              "4   198.6  132.4     0.0  192.0  ...            978.4          825.5  360  44.30\n",
              "\n",
              "[5 rows x 9 columns]"
            ]
          },
          "metadata": {
            "tags": []
          },
          "execution_count": 2
        }
      ]
    },
    {
      "cell_type": "code",
      "metadata": {
        "colab": {
          "base_uri": "https://localhost:8080/",
          "height": 361
        },
        "id": "TitDufzxfpPa",
        "outputId": "41f00deb-0697-4c87-fca3-9f59bbd85982"
      },
      "source": [
        "sns.heatmap(df.corr(),annot = True)"
      ],
      "execution_count": 3,
      "outputs": [
        {
          "output_type": "execute_result",
          "data": {
            "text/plain": [
              "<matplotlib.axes._subplots.AxesSubplot at 0x7fa439f44bd0>"
            ]
          },
          "metadata": {
            "tags": []
          },
          "execution_count": 3
        },
        {
          "output_type": "display_data",
          "data": {
            "image/png": "[encoded data removed]",
            "text/plain": [
              "<Figure size 432x288 with 2 Axes>"
            ]
          },
          "metadata": {
            "tags": [],
            "needs_background": "light"
          }
        }
      ]
    },
    {
      "cell_type": "code",
      "metadata": {
        "id": "68G35kgqg-SN"
      },
      "source": [
        "X = df.iloc[:,:-1]\n",
        "y = df.iloc[:,-1]"
      ],
      "execution_count": 4,
      "outputs": []
    },
    {
      "cell_type": "code",
      "metadata": {
        "id": "vIFjE56HgtVM"
      },
      "source": [
        "X_train,X_test,y_train,y_test = train_test_split(X,y,test_size = 0.2,random_state = 42)"
      ],
      "execution_count": 5,
      "outputs": []
    },
    {
      "cell_type": "code",
      "metadata": {
        "colab": {
          "base_uri": "https://localhost:8080/"
        },
        "id": "YTEAdjEuhZdo",
        "outputId": "164b1db2-77ae-4427-f741-02d271e04e1b"
      },
      "source": [
        "#feature scaling\n",
        "sc = StandardScaler()\n",
        "X_train_scaled = sc.fit_transform(X_train)\n",
        "X_train_scaled = pd.DataFrame(X_train_scaled,columns = X_train.columns)\n",
        "X_test_scaled = sc.transform(X_test)\n",
        "X_test_scaled = pd.DataFrame(X_test_scaled,columns = X_test.columns)\n",
        "print(X_train_scaled.iloc[0:2])"
      ],
      "execution_count": 6,
      "outputs": [
        {
          "output_type": "stream",
          "text": [
            "     cement      slag    flyash  ...  coarseaggregate  fineaggregate       age\n",
            "0 -1.160877  0.857387  0.982449  ...        -0.257462      -0.647520 -0.275673\n",
            "1  1.308623 -0.602492  1.232598  ...        -1.926950      -0.273148 -0.275673\n",
            "\n",
            "[2 rows x 8 columns]\n"
          ],
          "name": "stdout"
        }
      ]
    },
    {
      "cell_type": "code",
      "metadata": {
        "colab": {
          "base_uri": "https://localhost:8080/"
        },
        "id": "JGxWCTL4fym_",
        "outputId": "89a63f46-8611-4cd7-aec3-1ac636ab21df"
      },
      "source": [
        "# finding out correlated features with feature-engines SmartCorrelatedSelection\n",
        "sel = SmartCorrelatedSelection(\n",
        "            variables= None,\n",
        "            method = 'pearson',\n",
        "            missing_values= 'raise',\n",
        "            selection_method = 'variance',\n",
        "            estimator = None,\n",
        "            scoring = 'neg_root_mean_squared_error',\n",
        "            cv = 3,\n",
        "            threshold = 0.65\n",
        ")\n",
        "sel.fit(X_train_scaled,y_train)\n",
        "sel.features_to_drop_"
      ],
      "execution_count": 7,
      "outputs": [
        {
          "output_type": "execute_result",
          "data": {
            "text/plain": [
              "['superplasticizer']"
            ]
          },
          "metadata": {
            "tags": []
          },
          "execution_count": 7
        }
      ]
    },
    {
      "cell_type": "code",
      "metadata": {
        "id": "H_TS9qxchGHb"
      },
      "source": [
        "X_train_scaled = X_train_scaled.drop([\"superplasticizer\"], axis = 1)\n",
        "X_test_scaled = X_test_scaled.drop([\"superplasticizer\"], axis = 1)"
      ],
      "execution_count": 8,
      "outputs": []
    },
    {
      "cell_type": "code",
      "metadata": {
        "colab": {
          "base_uri": "https://localhost:8080/"
        },
        "id": "wFY_mkwgi0BT",
        "outputId": "e412810b-401b-4d08-e2a4-ecbdaa916dec"
      },
      "source": [
        "lin_svr = LinearSVR(dual = False, loss = \"squared_epsilon_insensitive\")\n",
        "params = {\n",
        "    \"C\" : [0.1, 0.2 , 0.5, 0.7, 1],\n",
        "    \"epsilon\" : [0, 0.3, 0.5, 0.7, 1]\n",
        "}\n",
        "grid = GridSearchCV(lin_svr, param_grid= params, scoring= \"neg_root_mean_squared_error\", cv = 5, return_train_score= False)\n",
        "grid.fit(X_train_scaled,y_train)\n",
        "print(grid.best_estimator_)\n",
        "print(grid.best_score_)"
      ],
      "execution_count": 81,
      "outputs": [
        {
          "output_type": "stream",
          "text": [
            "LinearSVR(C=0.5, dual=False, epsilon=0.3, fit_intercept=True,\n",
            "          intercept_scaling=1.0, loss='squared_epsilon_insensitive',\n",
            "          max_iter=1000, random_state=None, tol=0.0001, verbose=0)\n",
            "-10.677019113795865\n"
          ],
          "name": "stdout"
        }
      ]
    },
    {
      "cell_type": "markdown",
      "metadata": {
        "id": "mHrrfBNk_5Ne"
      },
      "source": [
        "As it is evident from the heatmap that the features have mostly non-linear relationship with the target, so we'll try polynomial features for SVR and compare the performance with PolyReg"
      ]
    },
    {
      "cell_type": "code",
      "metadata": {
        "colab": {
          "base_uri": "https://localhost:8080/"
        },
        "id": "Xzsls1BHAXpE",
        "outputId": "d8032fbd-392a-4ea6-dc91-57810b1cc76b"
      },
      "source": [
        "for i in range(2,6):\n",
        "  poly_svr = SVR(kernel= 'poly', degree = i)\n",
        "  score = cross_val_score(poly_svr,X_train_scaled,y_train,scoring = 'neg_root_mean_squared_error', cv= 3)\n",
        "  print(i,score.mean(),score.std())"
      ],
      "execution_count": 86,
      "outputs": [
        {
          "output_type": "stream",
          "text": [
            "2 -15.733644520793687 0.8186915976459354\n",
            "3 -12.639222678689398 0.3586256344553866\n",
            "4 -15.24564059570725 0.5481736668305317\n",
            "5 -13.993261262380301 0.34752742577854595\n"
          ],
          "name": "stdout"
        }
      ]
    },
    {
      "cell_type": "markdown",
      "metadata": {
        "id": "l-Uk-tY8BtHC"
      },
      "source": [
        "So from above we see degree 3 polynomial gives us the lowest loss. So we'll go choose degree = 3 for the polynomial"
      ]
    },
    {
      "cell_type": "code",
      "metadata": {
        "colab": {
          "base_uri": "https://localhost:8080/",
          "height": 401
        },
        "id": "tbep-TclnJHj",
        "outputId": "a0da8928-7b97-4f90-96e2-61c2c131da0e"
      },
      "source": [
        "poly_svr = SVR(kernel= 'poly', degree = 3)\n",
        "params1 = {\n",
        "    \"coef0\" : [0, 0.1, 0.2, 0.5, 0.7, 1],\n",
        "    \n",
        "}\n",
        "\n",
        "grid = GridSearchCV(poly_svr, param_grid= params1, scoring= \"neg_root_mean_squared_error\", cv = 5, return_train_score= False)\n",
        "grid.fit(X_train_scaled,y_train)\n",
        "result = pd.DataFrame(grid.cv_results_, columns= [\"params\", \"mean_test_score\", \"std_test_score\"])\n",
        "print(result)\n",
        "plt.plot(params1[\"coef0\"],result.mean_test_score)"
      ],
      "execution_count": 45,
      "outputs": [
        {
          "output_type": "stream",
          "text": [
            "           params  mean_test_score  std_test_score\n",
            "0    {'coef0': 0}       -12.356543        0.493429\n",
            "1  {'coef0': 0.1}       -11.595685        0.497083\n",
            "2  {'coef0': 0.2}       -10.669551        0.554779\n",
            "3  {'coef0': 0.5}        -8.527528        0.667461\n",
            "4  {'coef0': 0.7}        -7.933571        0.704672\n",
            "5    {'coef0': 1}        -7.525055        0.746327\n"
          ],
          "name": "stdout"
        },
        {
          "output_type": "execute_result",
          "data": {
            "text/plain": [
              "[<matplotlib.lines.Line2D at 0x7fa42b39d7d0>]"
            ]
          },
          "metadata": {
            "tags": []
          },
          "execution_count": 45
        },
        {
          "output_type": "display_data",
          "data": {
            "image/png": "[encoded data removed]",
            "text/plain": [
              "<Figure size 432x288 with 1 Axes>"
            ]
          },
          "metadata": {
            "tags": [],
            "needs_background": "light"
          }
        }
      ]
    },
    {
      "cell_type": "code",
      "metadata": {
        "colab": {
          "base_uri": "https://localhost:8080/",
          "height": 333
        },
        "id": "-L4zUNuSsvgs",
        "outputId": "194ff288-8374-469b-a416-056d8c592756"
      },
      "source": [
        "poly_svr = SVR(kernel= 'poly', degree = 3)\n",
        "params2 = {\n",
        "    \"gamma\" : [\"auto\", \"scale\"],\n",
        "}\n",
        "grid = GridSearchCV(poly_svr, param_grid= params2, scoring= \"neg_root_mean_squared_error\", cv = 5, return_train_score= False)\n",
        "grid.fit(X_train_scaled,y_train)\n",
        "result = pd.DataFrame(grid.cv_results_, columns= [\"params\", \"mean_test_score\", \"std_test_score\"])\n",
        "print(result)\n",
        "plt.plot(params2[\"gamma\"],result.mean_test_score)"
      ],
      "execution_count": 47,
      "outputs": [
        {
          "output_type": "stream",
          "text": [
            "               params  mean_test_score  std_test_score\n",
            "0   {'gamma': 'auto'}       -12.362804        0.533616\n",
            "1  {'gamma': 'scale'}       -12.356543        0.493429\n"
          ],
          "name": "stdout"
        },
        {
          "output_type": "execute_result",
          "data": {
            "text/plain": [
              "[<matplotlib.lines.Line2D at 0x7fa42b315f90>]"
            ]
          },
          "metadata": {
            "tags": []
          },
          "execution_count": 47
        },
        {
          "output_type": "display_data",
          "data": {
            "image/png": "[encoded data removed]",
            "text/plain": [
              "<Figure size 432x288 with 1 Axes>"
            ]
          },
          "metadata": {
            "tags": [],
            "needs_background": "light"
          }
        }
      ]
    },
    {
      "cell_type": "code",
      "metadata": {
        "colab": {
          "base_uri": "https://localhost:8080/",
          "height": 384
        },
        "id": "qNo7jnmJuY2_",
        "outputId": "0f6c6fed-2303-4fc1-9e27-9696bcac68b4"
      },
      "source": [
        "poly_svr = SVR(kernel= 'poly', degree = 3)\n",
        "params3 = {\n",
        "    \"C\" : [0.1, 0.2 , 0.5, 0.7, 1],\n",
        "}\n",
        "grid = GridSearchCV(poly_svr, param_grid= params3, scoring= \"neg_root_mean_squared_error\", cv = 5, return_train_score= False)\n",
        "grid.fit(X_train_scaled,y_train)\n",
        "result = pd.DataFrame(grid.cv_results_, columns= [\"params\", \"mean_test_score\", \"std_test_score\"])\n",
        "print(result)\n",
        "plt.plot(params3[\"C\"],result.mean_test_score)"
      ],
      "execution_count": 48,
      "outputs": [
        {
          "output_type": "stream",
          "text": [
            "       params  mean_test_score  std_test_score\n",
            "0  {'C': 0.1}       -15.382730        0.703095\n",
            "1  {'C': 0.2}       -14.657642        0.583599\n",
            "2  {'C': 0.5}       -13.440989        0.488050\n",
            "3  {'C': 0.7}       -12.929876        0.476816\n",
            "4    {'C': 1}       -12.356543        0.493429\n"
          ],
          "name": "stdout"
        },
        {
          "output_type": "execute_result",
          "data": {
            "text/plain": [
              "[<matplotlib.lines.Line2D at 0x7fa42b2f97d0>]"
            ]
          },
          "metadata": {
            "tags": []
          },
          "execution_count": 48
        },
        {
          "output_type": "display_data",
          "data": {
            "image/png": "[encoded data removed]",
            "text/plain": [
              "<Figure size 432x288 with 1 Axes>"
            ]
          },
          "metadata": {
            "tags": [],
            "needs_background": "light"
          }
        }
      ]
    },
    {
      "cell_type": "code",
      "metadata": {
        "colab": {
          "base_uri": "https://localhost:8080/",
          "height": 384
        },
        "id": "hwFhDXApuc_c",
        "outputId": "02141443-53f5-44df-e63b-d9352cb74688"
      },
      "source": [
        "poly_svr = SVR(kernel= 'poly', degree = 3)\n",
        "params4 = {\n",
        "    \"epsilon\" : [0, 0.3, 0.5, 0.7, 1]\n",
        "}\n",
        "grid = GridSearchCV(poly_svr, param_grid= params4, scoring= \"neg_root_mean_squared_error\", cv = 5, return_train_score= False)\n",
        "grid.fit(X_train_scaled,y_train)\n",
        "result = pd.DataFrame(grid.cv_results_, columns= [\"params\", \"mean_test_score\", \"std_test_score\"])\n",
        "print(result)\n",
        "plt.plot(params4[\"epsilon\"],result.mean_test_score)"
      ],
      "execution_count": 50,
      "outputs": [
        {
          "output_type": "stream",
          "text": [
            "             params  mean_test_score  std_test_score\n",
            "0    {'epsilon': 0}       -12.356746        0.497935\n",
            "1  {'epsilon': 0.3}       -12.348041        0.492781\n",
            "2  {'epsilon': 0.5}       -12.332927        0.499075\n",
            "3  {'epsilon': 0.7}       -12.324038        0.501101\n",
            "4    {'epsilon': 1}       -12.319815        0.500523\n"
          ],
          "name": "stdout"
        },
        {
          "output_type": "execute_result",
          "data": {
            "text/plain": [
              "[<matplotlib.lines.Line2D at 0x7fa42b1d9b50>]"
            ]
          },
          "metadata": {
            "tags": []
          },
          "execution_count": 50
        },
        {
          "output_type": "display_data",
          "data": {
            "image/png": "[encoded data removed]",
            "text/plain": [
              "<Figure size 432x288 with 1 Axes>"
            ]
          },
          "metadata": {
            "tags": [],
            "needs_background": "light"
          }
        }
      ]
    },
    {
      "cell_type": "code",
      "metadata": {
        "colab": {
          "base_uri": "https://localhost:8080/"
        },
        "id": "HkOn36c149aU",
        "outputId": "5f421126-8aa8-47d5-8d97-c26b36dbe6c5"
      },
      "source": [
        "poly_svr = SVR(kernel= 'poly', degree = 3)\n",
        "params = {\n",
        "    \"coef0\" : [0, 0.1, 0.2, 0.5, 0.7, 1],\n",
        "    \"C\" : [0.1, 0.2 , 0.5, 0.7, 1],\n",
        "    \"epsilon\" : [0, 0.3, 0.5, 0.7, 1]\n",
        "}\n",
        "grid = GridSearchCV(poly_svr, param_grid= params, scoring= \"neg_root_mean_squared_error\", cv = 5, return_train_score= False)\n",
        "grid.fit(X_train_scaled,y_train)\n",
        "print(grid.best_estimator_)\n",
        "print(grid.best_score_)\n",
        "poly_svr = grid.best_estimator_"
      ],
      "execution_count": 60,
      "outputs": [
        {
          "output_type": "stream",
          "text": [
            "SVR(C=1, cache_size=200, coef0=1, degree=3, epsilon=0, gamma='scale',\n",
            "    kernel='poly', max_iter=-1, shrinking=True, tol=0.001, verbose=False)\n",
            "-7.524854184670036\n"
          ],
          "name": "stdout"
        }
      ]
    },
    {
      "cell_type": "markdown",
      "metadata": {
        "id": "schhR8XU2Kgi"
      },
      "source": [
        "From above observations we see that-\n",
        "\n",
        "1. Increasing coef0 decreases loss\n",
        "\n",
        "2. No significant difference observed changing gamma\n",
        "\n",
        "3. Decreasing 'C' i.e. regularization, loss decreases\n",
        "\n",
        "4. Increasing'epsilon' the loss decreases\n",
        "\n",
        "Now let's compare the performance of SVR with 'poly' kernel with Polynomial Regression for this dataset"
      ]
    },
    {
      "cell_type": "code",
      "metadata": {
        "colab": {
          "base_uri": "https://localhost:8080/"
        },
        "id": "B4Bwmmgd-mkj",
        "outputId": "22402f13-a0ef-4b24-d565-7194430d633d"
      },
      "source": [
        "%load_ext memory_profiler"
      ],
      "execution_count": 77,
      "outputs": [
        {
          "output_type": "stream",
          "text": [
            "The memory_profiler extension is already loaded. To reload it, use:\n",
            "  %reload_ext memory_profiler\n"
          ],
          "name": "stdout"
        }
      ]
    },
    {
      "cell_type": "code",
      "metadata": {
        "colab": {
          "base_uri": "https://localhost:8080/"
        },
        "id": "LAbUjzRJu_70",
        "outputId": "bea4c6a3-cdff-403b-c4e6-d0b78e765595"
      },
      "source": [
        "%%time\n",
        "%memit\n",
        "\n",
        "poly_regressor = model = Pipeline([\n",
        "        (\"poly_features\", PolynomialFeatures(degree = 3, include_bias = False )),\n",
        "        (\"lin_reg\", LinearRegression())\n",
        "    ])\n",
        "poly_regressor.fit(X_train_scaled,y_train)\n",
        "y_pred = poly_regressor.predict(X_test_scaled)\n",
        "loss = sqrt(mean_squared_error(y_test,y_pred))\n",
        "print(loss)"
      ],
      "execution_count": 78,
      "outputs": [
        {
          "output_type": "stream",
          "text": [
            "peak memory: 233.46 MiB, increment: 0.00 MiB\n",
            "6.551914863425191\n",
            "CPU times: user 143 ms, sys: 59.3 ms, total: 202 ms\n",
            "Wall time: 334 ms\n"
          ],
          "name": "stdout"
        }
      ]
    },
    {
      "cell_type": "code",
      "metadata": {
        "colab": {
          "base_uri": "https://localhost:8080/"
        },
        "id": "oddgW7Su4Ij1",
        "outputId": "f2bfce71-96e1-4c8e-9fa6-78c9f07dd268"
      },
      "source": [
        "%%time\n",
        "%memit\n",
        "\n",
        "poly_svr.fit(X_train_scaled,y_train)\n",
        "y_pred = poly_svr.predict(X_test_scaled)\n",
        "loss = sqrt(mean_squared_error(y_test,y_pred))\n",
        "print(loss)"
      ],
      "execution_count": 79,
      "outputs": [
        {
          "output_type": "stream",
          "text": [
            "peak memory: 233.46 MiB, increment: 0.00 MiB\n",
            "7.144983649952618\n",
            "CPU times: user 203 ms, sys: 44.2 ms, total: 247 ms\n",
            "Wall time: 398 ms\n"
          ],
          "name": "stdout"
        }
      ]
    },
    {
      "cell_type": "markdown",
      "metadata": {
        "id": "Pt6hWzOc-u1Y"
      },
      "source": [
        "From above we see that both the execution time and loss is less if we use Polynomial regression instead of SVR with polynomial kernel"
      ]
    }
  ]
}